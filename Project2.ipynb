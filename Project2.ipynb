{
 "cells": [
  {
   "cell_type": "markdown",
   "id": "35126d5b-54db-4911-a2ff-1e096e803436",
   "metadata": {},
   "source": [
    "# Create trading Algorithm using Bitcoin daily data from yfinance from 9-10-2013 - 9-10-2023\n"
   ]
  },
  {
   "cell_type": "code",
   "execution_count": null,
   "id": "8bc5d68d-42c5-47bc-8c11-9488957db365",
   "metadata": {},
   "outputs": [],
   "source": [
    "# Superivised Machine Learning Modules\n",
    "    # Logistic Regression\n",
    "    # Linear Regression\n",
    "    # K-nearest neighbors\n",
    "    # Decision Trees\n",
    "    # Random Forests\n",
    "    # SVM\n",
    "    # Neural Networks\n",
    "    \n",
    "    "
   ]
  },
  {
   "cell_type": "code",
   "execution_count": 1,
   "id": "ad96019e-ac26-4cc4-8cd3-2b796107514d",
   "metadata": {},
   "outputs": [],
   "source": [
    "# Create machine learning trading algo to optimise for returns\n",
    "# Each team member use different ML module and try and create a trading strategy using Bitcoin daily data from dates above to generate a profitable strategy. "
   ]
  },
  {
   "cell_type": "code",
   "execution_count": null,
   "id": "9761398d-01bc-492c-a989-85817c4f4ef2",
   "metadata": {},
   "outputs": [],
   "source": []
  }
 ],
 "metadata": {
  "kernelspec": {
   "display_name": "Python 3 (ipykernel)",
   "language": "python",
   "name": "python3"
  },
  "language_info": {
   "codemirror_mode": {
    "name": "ipython",
    "version": 3
   },
   "file_extension": ".py",
   "mimetype": "text/x-python",
   "name": "python",
   "nbconvert_exporter": "python",
   "pygments_lexer": "ipython3",
   "version": "3.7.13"
  }
 },
 "nbformat": 4,
 "nbformat_minor": 5
}
